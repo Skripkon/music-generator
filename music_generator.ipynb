{
 "cells": [
  {
   "cell_type": "markdown",
   "metadata": {},
   "source": [
    "#### Music Generation with Python | Part 2"
   ]
  },
  {
   "cell_type": "code",
   "execution_count": 46,
   "metadata": {},
   "outputs": [],
   "source": [
    "from music21 import note, chord, stream\n",
    "import random"
   ]
  },
  {
   "cell_type": "code",
   "execution_count": 51,
   "metadata": {},
   "outputs": [],
   "source": [
    "class MinorMusicGenerator:\n",
    "    # scale is a number from 59 (B) to 70 (Bb)\n",
    "    def __init__(self, scale=60):\n",
    "        if isinstance(scale, int) == False:\n",
    "            raise(\"scale must be an integer\")\n",
    "        elif scale < 59 or scale > 70:\n",
    "                raise(\"scale must be in a range from 59 to 70\")\n",
    "        else:\n",
    "             self.scale = scale\n",
    "        self.correct_notes()\n",
    "        self.correct_minor_chords()\n",
    "        self.create_baselines()\n",
    "\n",
    "    def correct_notes(self) -> list:\n",
    "        shifts: list[int] = [0, 2, 3, 5, 7, 8, 10]\n",
    "        notes = [(self.scale + shift) for shift in shifts]\n",
    "        self.correct_notes = notes\n",
    "    \n",
    "    @classmethod\n",
    "    def get_minor_chord(cls, note, duration: int = 4):\n",
    "        new_chord = chord.Chord([note, note + 3, note + 7], quarterLength=duration)\n",
    "        return new_chord\n",
    "    \n",
    "    def correct_minor_chords(self) -> list:\n",
    "        first_chord = self.get_minor_chord(self.scale - 12)\n",
    "        second_chord = self.get_minor_chord(self.scale + 5 - 12)\n",
    "        third_chord = self.get_minor_chord(self.scale + 7 - 12)\n",
    "        self.minor_chords = [first_chord, second_chord, third_chord]\n",
    "\n",
    "    def create_one_baseline(self, scale): # 12 notes separetely: Scale - 24 ... Scale + 24 ... Scale - 21\n",
    "        cur_note = scale - 24\n",
    "        return [cur_note, cur_note + 3, cur_note + 7, cur_note + 12,\n",
    "                 cur_note + 15, cur_note + 19, cur_note + 24, cur_note + 19,\n",
    "                 cur_note + 15, cur_note + 12, cur_note + 7, cur_note + 3]\n",
    "    \n",
    "    def create_baselines(self):\n",
    "         first_baseline = self.create_one_baseline(self.scale)\n",
    "         second_baseline = self.create_one_baseline(self.scale + 5)\n",
    "         third_baseline = self.create_one_baseline(self.scale + 7)\n",
    "         self.baselines = [first_baseline, second_baseline, third_baseline]"
   ]
  },
  {
   "cell_type": "code",
   "execution_count": 52,
   "metadata": {},
   "outputs": [],
   "source": []
  },
  {
   "cell_type": "code",
   "execution_count": 53,
   "metadata": {},
   "outputs": [],
   "source": [
    "new_song_generator = MinorMusicGenerator(60)\n",
    "\n",
    "myStream = stream.Stream()\n",
    "note_duration = [2, 1, 0.5, 0.25]\n",
    "intervals = 20\n",
    "\n",
    "def add_one_interval(index: int, octave_shift_from_4: int = 0, velocity: int = 90):\n",
    "    # generating notes for the right hand\n",
    "    random_number = random.randint(0, 3)\n",
    "    number_of_notes = 2 ** random_number\n",
    "    duration = note_duration[random_number]\n",
    "    shift: int = octave_shift_from_4 * 12\n",
    "    for i in range(number_of_notes):\n",
    "        random_note = new_song_generator.correct_notes[random.randint(0, 6)] + shift\n",
    "        my_note = note.Note(random_note, quarterLength=duration)\n",
    "        my_note.volume.velocity = velocity\n",
    "        myStream.append(my_note)\n",
    "\n",
    "    # generating the chord for the left hand\n",
    "    random_chord = new_song_generator.minor_chords[random.randint(0, 2)]\n",
    "    newChord = chord.Chord(random_chord.pitches)\n",
    "    newChord.volume.velocity = 60\n",
    "    myStream.insert(index, newChord)\n",
    "\n",
    "for i in range(intervals):\n",
    "    add_one_interval(2 * i, octave_shift_from_4=random.randint(-1, 0), velocity=random.randint(70, 120))\n",
    "add_one_interval(2 * intervals, velocity=50)"
   ]
  },
  {
   "cell_type": "code",
   "execution_count": 54,
   "metadata": {},
   "outputs": [
    {
     "data": {
      "text/plain": [
       "'try.midi'"
      ]
     },
     "execution_count": 54,
     "metadata": {},
     "output_type": "execute_result"
    }
   ],
   "source": [
    "myStream.write('midi', fp='try.midi')"
   ]
  },
  {
   "cell_type": "markdown",
   "metadata": {},
   "source": [
    "#### Saving notes (sheet music)"
   ]
  },
  {
   "cell_type": "code",
   "execution_count": 107,
   "metadata": {},
   "outputs": [
    {
     "name": "stderr",
     "output_type": "stream",
     "text": [
      "/home/nick/.local/lib/python3.11/site-packages/music21/musicxml/m21ToXml.py:531: MusicXMLWarning: <music21.stream.Score 0x7f0b546ec110> is not well-formed; see isWellFormedNotation()\n",
      "  warnings.warn(f'{sc} is not well-formed; see isWellFormedNotation()',\n"
     ]
    },
    {
     "data": {
      "text/plain": [
       "PosixPath('/home/nick/Desktop/YouTube/videos/video 7/output_score.xml')"
      ]
     },
     "execution_count": 107,
     "metadata": {},
     "output_type": "execute_result"
    }
   ],
   "source": [
    "from music21 import converter, stream\n",
    "\n",
    "# Replace 'your_file.mid' with the path to your MIDI file\n",
    "midi_file_path = 'try.midi'\n",
    "\n",
    "# Parse the MIDI file\n",
    "midi_score = converter.parse(midi_file_path)\n",
    "\n",
    "# Create a stream.Score object\n",
    "score = stream.Score()\n",
    "\n",
    "# Add the parsed MIDI score to the new Score object\n",
    "score.append(midi_score)\n",
    "\n",
    "# Replace 'output_score.xml' with the desired output sheet music file path and format\n",
    "output_sheet_music_path = 'output_score.xml'\n",
    "\n",
    "# Write the Score object to a sheet music file (in MusicXML format)\n",
    "score.write('xml', fp=output_sheet_music_path)"
   ]
  },
  {
   "cell_type": "markdown",
   "metadata": {},
   "source": [
    "## Generator with a simple baseline"
   ]
  },
  {
   "cell_type": "code",
   "execution_count": null,
   "metadata": {},
   "outputs": [],
   "source": [
    "# interval: quarterlength = 4\n",
    "myStream = stream.Stream()\n",
    "note_duration = [2, 1, 0.5]\n",
    "intervals = 20\n",
    "volumes = [100, 50, 60, 60, 70, 80, 100, 80, 70, 60, 50, 50]\n",
    "\n",
    "def add_one_interval(index: int, octave_shift_from_4: int = 0, velocity: int = 90):\n",
    "    # generating notes for the right hand\n",
    "    random_number = random.randint(0, 2)\n",
    "    number_of_notes = 2 ** (random_number + 1)\n",
    "    duration = note_duration[random_number]\n",
    "    shift: int = octave_shift_from_4 * 12\n",
    "    for i in range(number_of_notes):\n",
    "        random_note = new_song_generator.correct_notes[random.randint(0, 6)] + shift\n",
    "        my_note = note.Note(random_note, quarterLength=duration)\n",
    "        my_note.volume.velocity = velocity\n",
    "        myStream.append(my_note)\n",
    "\n",
    "    # generating the chord for the left hand\n",
    "    sequence_of_notes = new_song_generator.baselines[random.randint(0, 2)]\n",
    "    for i in range(0, 12):\n",
    "        cur_note = sequence_of_notes[i]\n",
    "        new_note = note.Note(cur_note, quarterLength=0.33)\n",
    "        new_note.volume.velocity = velocity\n",
    "        new_note.volume.velocity = volumes[i]\n",
    "        myStream.insert(index + (i / 3), new_note)\n",
    "\n",
    "for i in range(intervals):\n",
    "    add_one_interval(4 * i, octave_shift_from_4=random.randint(-1, 0), velocity=random.randint(70, 120))\n",
    "add_one_interval(2 * intervals, velocity=50)"
   ]
  },
  {
   "cell_type": "code",
   "execution_count": null,
   "metadata": {},
   "outputs": [],
   "source": []
  }
 ],
 "metadata": {
  "kernelspec": {
   "display_name": "Python 3",
   "language": "python",
   "name": "python3"
  },
  "language_info": {
   "codemirror_mode": {
    "name": "ipython",
    "version": 3
   },
   "file_extension": ".py",
   "mimetype": "text/x-python",
   "name": "python",
   "nbconvert_exporter": "python",
   "pygments_lexer": "ipython3",
   "version": "3.11.6"
  }
 },
 "nbformat": 4,
 "nbformat_minor": 2
}
